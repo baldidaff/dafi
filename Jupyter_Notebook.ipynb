{
 "cells": [
  {
   "cell_type": "markdown",
   "metadata": {},
   "source": [
    "<center>\n",
    "    <img src=\"https://cf-courses-data.s3.us.cloud-object-storage.appdomain.cloud/IBMDeveloperSkillsNetwork-DS0105EN-SkillsNetwork/labs/Module2/images/SN_web_lightmode.png\" width=\"300\" alt=\"cognitiveclass.ai logo\">\n",
    "</center>\n"
   ]
  },
  {
   "cell_type": "markdown",
   "metadata": {},
   "source": [
    "#### Add your code below following the instructions given in the course\n"
   ]
  },
  {
   "cell_type": "code",
   "execution_count": null,
   "metadata": {},
   "outputs": [],
   "source": [
    "# Data Science Notebook\n",
    "## Introduction\n",
    "This notebook contains exercises related to Data Science concepts and tasks.\n",
    "## Data Science Languages\n",
    "- Python\n",
    "- R\n",
    "- SQL\n",
    "- Julia\n",
    "- Scala\n",
    "- Java\n",
    "- MATLAB\n",
    "## Data Science Libraries\n",
    "- Pandas\n",
    "- NumPy\n",
    "- SciPy\n",
    "- Scikit-learn\n",
    "- TensorFlow\n",
    "- Keras\n",
    "- PyTorch\n",
    "- Matplotlib\n",
    "- Seaborn\n",
    "- ggplot2\n",
    "## Data Science Tools\n",
    "| Tool           | Description                               |\n",
    "|----------------|-------------------------------------------|\n",
    "| Jupyter Notebook | Interactive computing environment       |\n",
    "| RStudio        | Integrated development environment for R |\n",
    "| Apache Spark   | Unified analytics engine                  |\n",
    "| Tableau        | Data visualization software               |\n",
    "| MATLAB         | Numerical computing environment           |\n",
    "\n",
    "## Arithmetic Expression Examples\n",
    "Below are examples of basic arithmetic operations such as addition and multiplication.\n",
    "\n",
    "# Multiplying and adding numbers\n",
    "a = 5\n",
    "b = 4\n",
    "result = (a * b) + b\n",
    "result\n",
    "\n",
    "# Convert minutes to hours\n",
    "minutes = 120\n",
    "hours = minutes / 60\n",
    "hours\n",
    "\n",
    "## Objectives\n",
    "- Learn basic Data Science concepts\n",
    "- Understand various Data Science tools and libraries\n",
    "- Perform basic arithmetic operations\n",
    "- Convert units of measurement\n",
    "\n",
    "## Author\n",
    "Dafi\n",
    "\n"
   ]
  }
 ],
 "metadata": {
  "kernelspec": {
   "display_name": "Python",
   "language": "python",
   "name": "conda-env-python-py"
  },
  "language_info": {
   "codemirror_mode": {
    "name": "ipython",
    "version": 3
   },
   "file_extension": ".py",
   "mimetype": "text/x-python",
   "name": "python",
   "nbconvert_exporter": "python",
   "pygments_lexer": "ipython3",
   "version": "3.7.12"
  }
 },
 "nbformat": 4,
 "nbformat_minor": 4
}
